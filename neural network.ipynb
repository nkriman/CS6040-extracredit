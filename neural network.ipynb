{
 "cells": [
  {
   "cell_type": "markdown",
   "metadata": {},
   "source": []
  },
  {
   "cell_type": "markdown",
   "metadata": {},
   "source": [
    "# Summary: Single Layer Neural Networks from a Statistical Perspective\n",
    "(based on \"Introduction to statistical learning\")\n",
    "\n",
    "## Conceptual Overview\n",
    "**Purpose**: A neural network aims to build a nonlinear function `f(X)` to predict the response `Y`, using an input vector of variables `X = (X1, X2, ..., Xp)`. Unlike trees, boosting, and generalized additive models, neural networks have a unique structure characterized by *layers* and *neurons*."
   ]
  },
  {
   "cell_type": "markdown",
   "metadata": {},
   "source": [
    "# The MNIST dataset\n",
    "\n",
    "According to Wikipedia:\n",
    "\n",
    "\"The MNIST database (Modified National Institute of Standards and Technology database) is a large database of handwritten digits that is commonly used for training various image processing systems.(...) The black and white images from NIST were normalized to fit into a 28x28 pixel bounding box and anti-aliased, which introduced grayscale levels.[7]\n",
    "\n",
    "The MNIST database contains 60,000 training images and 10,000 testing images.\"\n",
    "\n",
    "Instead of using the full MNIST database, we are going to work with mini-mnist-1000 (link: https://github.com/yasserius/mini-mnist-1000), which is \"a small subset of 1000 images from MNIST, 100 images for each digits.\"\n",
    "\n",
    "Given that each image is 2 dimensional, and a neural network input observation must be 1 dimensional, we are going to \"flatten\" (map) each image to a flat $width * height$ dimensional vector.\n",
    "\n",
    "We are also going to split the dataset on a training and test groups on a 80/20 proportion.\n",
    "\n"
   ]
  },
  {
   "cell_type": "markdown",
   "metadata": {},
   "source": []
  },
  {
   "cell_type": "markdown",
   "metadata": {},
   "source": [
    "*This section is based on the paper \"The Neural Network, its Techniques and Applications\" by Casey Schafer (2016)*\n",
    "\n",
    "# Basic Neural Network: Perceptron\n",
    "\n",
    "A **perceptron** is the most basic form of a neural network. It consists of one layer of inputs (independent variables or features) and one layer of outputs (dependent variables). Let's break down the components and the operation of this network step by step, exemplifying with :\n",
    "\n",
    "## Layers and Vectors\n",
    "\n",
    "1. **Layers**: In a perceptron, layers are visualized as a series of neurons or nodes (each node corresponding to a variable) aligned vertically. With n features and k observations, a layer is represented as a matrix `n × k` .\n",
    "\n",
    "2. **Input Layer (X)**: For example, a perceptron with 2 features and `k` observations, the input layer is a `2 × k` matrix (matrix `X`). We are going to model the \"mini MNIST\" data, which will have (28 x 28) input features and 800 training observations, so the input layer matrix has a 784 x 800 shape.\n",
    "\n",
    "3. **Output Layer (Y)**: On the other hand, an output layer (matrix `Y`) is typically `n × p` (\"p\" being the number of output features), in this case we will model each possible digit (0 to 9) as a binary variable, so it will have 10 x 800 shape. `Y` will be our prediction matrix and `T`  our label matrix.\n",
    "\n",
    "## Goal of the Neural Network:\n",
    "The objective is to minimize the difference between the known output `T` and the predicted output `Y`.\n",
    "\n",
    "## Weight Matrix (W)\n",
    "\n",
    "To map from `X` to `Y`, we introduce a weight matrix `W`. In general, `W` is an `n × m` matrix, where `m` is the number of input nodes, independent of the number of observations. In this case we have 784 input features and 10 output features, so it has a 10 x 784 shape. The fundamental equation of the network is: `T = W * X + b`, where `b` is a bias vector.\n",
    "\n",
    "## Linearization\n",
    "\n",
    "For simplicity, we are going to linearize this equation. To linearize this equation, augment (append as a last column) `W` with `b` as `[W | b]` and add a row of 1’s at the end of matrix `X`, which will be the matrix equivalent of $W*X + b$. The equation becomes: `T = [W | b] * [X; 1]` or $T=WX$ (which means we can solve this using a simple linear transformation). We must redefine the shape of matrix `W` to be `n × (m + 1)` and also change the shape of matrix `X` to be `(m + 1) × p` with a row of 1’s at the bottom.\n",
    "\n",
    "## Solving for W\n",
    "\n",
    "If this was a single row, we could just simply divide $T/X$ to solve for W. Instead, we must compute the pseudoinverse of `X` using singular value decomposition (SVD) to find an approximation of `W`, denoted as `Ŵ`. We use the \"pseudoinverse\" instead of the \"inverse\" of a matrix ($A^-1$) because the pseudoinverse can be used in non-square and in non-invertible matrixes (which is incidentally our case for the MNIST dataset)\n",
    "We remember from one of our beloved past notebooks in CSE-6040 that any matrix A can be expressed as $A = U \\Sigma V^T$ using SVD. Now the approximation `Ŵ` is calculated as `Ŵ = T * V * Σ⁻¹ * Uᵀ`, where `V`, `Σ`, and `U` are derived from the SVD of `X`. "
   ]
  },
  {
   "cell_type": "markdown",
   "metadata": {},
   "source": [
    "## Setup\n",
    "\n",
    "We must install the required libraries and load the dataset."
   ]
  },
  {
   "cell_type": "code",
   "execution_count": 2,
   "metadata": {},
   "outputs": [
    {
     "name": "stdout",
     "output_type": "stream",
     "text": [
      "Defaulting to user installation because normal site-packages is not writeable\n",
      "Requirement already satisfied: scikit-learn in /Users/krilet/Library/Python/3.9/lib/python/site-packages (1.3.2)\n",
      "Requirement already satisfied: numpy in /Users/krilet/Library/Python/3.9/lib/python/site-packages (1.25.0)\n",
      "Requirement already satisfied: matplotlib in /Users/krilet/Library/Python/3.9/lib/python/site-packages (3.8.2)\n",
      "Requirement already satisfied: seaborn in /Users/krilet/Library/Python/3.9/lib/python/site-packages (0.13.0)\n",
      "Requirement already satisfied: scipy>=1.5.0 in /Users/krilet/Library/Python/3.9/lib/python/site-packages (from scikit-learn) (1.11.4)\n",
      "Requirement already satisfied: joblib>=1.1.1 in /Users/krilet/Library/Python/3.9/lib/python/site-packages (from scikit-learn) (1.3.2)\n",
      "Requirement already satisfied: threadpoolctl>=2.0.0 in /Users/krilet/Library/Python/3.9/lib/python/site-packages (from scikit-learn) (3.2.0)\n",
      "Requirement already satisfied: contourpy>=1.0.1 in /Users/krilet/Library/Python/3.9/lib/python/site-packages (from matplotlib) (1.2.0)\n",
      "Requirement already satisfied: cycler>=0.10 in /Users/krilet/Library/Python/3.9/lib/python/site-packages (from matplotlib) (0.12.1)\n",
      "Requirement already satisfied: fonttools>=4.22.0 in /Users/krilet/Library/Python/3.9/lib/python/site-packages (from matplotlib) (4.45.1)\n",
      "Requirement already satisfied: kiwisolver>=1.3.1 in /Users/krilet/Library/Python/3.9/lib/python/site-packages (from matplotlib) (1.4.5)\n",
      "Requirement already satisfied: packaging>=20.0 in /Users/krilet/Library/Python/3.9/lib/python/site-packages (from matplotlib) (23.1)\n",
      "Requirement already satisfied: pillow>=8 in /Users/krilet/Library/Python/3.9/lib/python/site-packages (from matplotlib) (10.1.0)\n",
      "Requirement already satisfied: pyparsing>=2.3.1 in /Users/krilet/Library/Python/3.9/lib/python/site-packages (from matplotlib) (3.1.1)\n",
      "Requirement already satisfied: python-dateutil>=2.7 in /Users/krilet/Library/Python/3.9/lib/python/site-packages (from matplotlib) (2.8.2)\n",
      "Requirement already satisfied: importlib-resources>=3.2.0 in /Users/krilet/Library/Python/3.9/lib/python/site-packages (from matplotlib) (6.1.1)\n",
      "Requirement already satisfied: pandas>=1.2 in /Users/krilet/Library/Python/3.9/lib/python/site-packages (from seaborn) (2.0.3)\n",
      "Requirement already satisfied: zipp>=3.1.0 in /Users/krilet/Library/Python/3.9/lib/python/site-packages (from importlib-resources>=3.2.0->matplotlib) (3.15.0)\n",
      "Requirement already satisfied: pytz>=2020.1 in /Users/krilet/Library/Python/3.9/lib/python/site-packages (from pandas>=1.2->seaborn) (2023.3)\n",
      "Requirement already satisfied: tzdata>=2022.1 in /Users/krilet/Library/Python/3.9/lib/python/site-packages (from pandas>=1.2->seaborn) (2023.3)\n",
      "Requirement already satisfied: six>=1.5 in /Library/Developer/CommandLineTools/Library/Frameworks/Python3.framework/Versions/3.9/lib/python3.9/site-packages (from python-dateutil>=2.7->matplotlib) (1.15.0)\n",
      "\n",
      "\u001b[1m[\u001b[0m\u001b[34;49mnotice\u001b[0m\u001b[1;39;49m]\u001b[0m\u001b[39;49m A new release of pip is available: \u001b[0m\u001b[31;49m23.2.1\u001b[0m\u001b[39;49m -> \u001b[0m\u001b[32;49m23.3.1\u001b[0m\n",
      "\u001b[1m[\u001b[0m\u001b[34;49mnotice\u001b[0m\u001b[1;39;49m]\u001b[0m\u001b[39;49m To update, run: \u001b[0m\u001b[32;49m/Library/Developer/CommandLineTools/usr/bin/python3 -m pip install --upgrade pip\u001b[0m\n",
      "Note: you may need to restart the kernel to use updated packages.\n"
     ]
    }
   ],
   "source": [
    "%pip install scikit-learn numpy matplotlib seaborn"
   ]
  },
  {
   "cell_type": "code",
   "execution_count": 3,
   "metadata": {},
   "outputs": [
    {
     "data": {
      "image/png": "[encoded data removed]",
      "text/plain": [
       "<Figure size 640x480 with 1 Axes>"
      ]
     },
     "metadata": {},
     "output_type": "display_data"
    },
    {
     "name": "stdout",
     "output_type": "stream",
     "text": [
      "This image is a 2 digit\n"
     ]
    }
   ],
   "source": [
    "import numpy as np\n",
    "import pickle\n",
    "\n",
    "np.random.seed(42) # for reproducibility\n",
    "\n",
    "with open('mini-mnist-1000.pickle', 'rb') as f:\n",
    "    data = pickle.load(f)\n",
    "\n",
    "images = data['images'] # a list of 1000 numpy image matrices\n",
    "labels = data['labels'] # a list of 1000 integer labels\n",
    "\n",
    "# Lets visualize an image\n",
    "\n",
    "import matplotlib.pyplot as plt\n",
    "%matplotlib inline\n",
    "\n",
    "plt.imshow(images[234], cmap='gray')\n",
    "plt.show()\n",
    "\n",
    "print(\"This image is a\", labels[234], \"digit\")\n"
   ]
  },
  {
   "cell_type": "markdown",
   "metadata": {},
   "source": [
    "## Flattening the images\n",
    "\n",
    "Given we are working with a simple perceptron, we must flatten each image into a vector of length 784. After we have done that, we can create a single matrix of all the images, where each row is an image vector."
   ]
  },
  {
   "cell_type": "code",
   "execution_count": 20,
   "metadata": {},
   "outputs": [
    {
     "name": "stdout",
     "output_type": "stream",
     "text": [
      "Original image shape: (28, 28)\n",
      "Flattened image shape:  (784,)\n",
      "X shape: (784, 1000)\n"
     ]
    }
   ],
   "source": [
    "# Lets flatten the images into vectors\n",
    "print(\"Original image shape:\", images[0].shape)  # (28, 28)\n",
    "\n",
    "print(\"Flattened image shape: \", images[0].flatten().shape) # numpy.flatten() flattens a matrix into a vector, handy!\n",
    "\n",
    "X = np.array([image.flatten() for image in images])\n",
    "X = X.T  # transpose so that X is an input matrix of \"features x observations\" shape as defined earlier\n",
    "print(\"X shape:\", X.shape)  # (784,1000)"
   ]
  },
  {
   "cell_type": "markdown",
   "metadata": {},
   "source": [
    "## Converting the target variable using one-hot encoding\n",
    "\n",
    "We also need to convert the labels so that they are one-hot encoded.\n",
    "Given that each label is an integer between 0 and 9, we can create a 10-dimensional vector for each label row.\n",
    "The vector will have a 1 in the position of the digit label and 0s everywhere else (a very *sparse* matrix)."
   ]
  },
  {
   "cell_type": "code",
   "execution_count": 11,
   "metadata": {},
   "outputs": [
    {
     "name": "stdout",
     "output_type": "stream",
     "text": [
      "T shape: (10, 1000)\n",
      "[[1. 1. 1. ... 0. 0. 0.]\n",
      " [0. 0. 0. ... 0. 0. 0.]\n",
      " [0. 0. 0. ... 0. 0. 0.]\n",
      " ...\n",
      " [0. 0. 0. ... 0. 0. 0.]\n",
      " [0. 0. 0. ... 0. 0. 0.]\n",
      " [0. 0. 0. ... 1. 1. 1.]]\n"
     ]
    }
   ],
   "source": [
    "T = np.zeros((len(labels), 10))\n",
    "for i, label in enumerate(labels):\n",
    "    T[i, label] = 1 # one-hot encoding works by setting the index of the correct class to 1\n",
    "T = T.T  # transpose T so that it is a matrix of \"digit classes x observations\" shape as defined earlier\n",
    "print(\"T shape:\", T.shape)  # (10,1000)\n",
    "print(T)"
   ]
  },
  {
   "cell_type": "markdown",
   "metadata": {},
   "source": [
    "## Train/test split\n",
    "\n",
    "Before we start coding, let's make sure we separate our dataset into training and test"
   ]
  },
  {
   "cell_type": "code",
   "execution_count": 21,
   "metadata": {},
   "outputs": [
    {
     "name": "stdout",
     "output_type": "stream",
     "text": [
      "X_train shape: (784, 800)\n",
      "X_test shape: (784, 200)\n",
      "T_train shape: (10, 800)\n",
      "T_test shape: (10, 200)\n"
     ]
    }
   ],
   "source": [
    "from sklearn.model_selection import train_test_split\n",
    "\n",
    "X_train, X_test, T_train, T_test = train_test_split(\n",
    "    X.T, T.T, test_size=0.2, random_state=42\n",
    ")\n",
    "\n",
    "X_train = X_train.T\n",
    "X_test = X_test.T\n",
    "T_train = T_train.T\n",
    "T_test = T_test.T\n",
    "\n",
    "print(\"X_train shape:\", X_train.shape)  # (784,800)\n",
    "print(\"X_test shape:\", X_test.shape)  # (784,200)\n",
    "print(\"T_train shape:\", T_train.shape)  # (10,800)\n",
    "print(\"T_test shape:\", T_test.shape)  # (10,200)"
   ]
  },
  {
   "cell_type": "markdown",
   "metadata": {},
   "source": [
    "## Coding our first implementation\n",
    "\n",
    "We are now ready to start coding our simple perceptron implementation. For this very simple algorithm, we won't even need to intialize W and b , because we are estimating W directly from just the labels and X matrix (T_train and X_train, respectively)"
   ]
  },
  {
   "cell_type": "code",
   "execution_count": 23,
   "metadata": {},
   "outputs": [
    {
     "name": "stdout",
     "output_type": "stream",
     "text": [
      "X train shape: (784, 800)\n",
      "T train shape: (10, 800)\n",
      "X: [[0 0 0 ... 0 0 0]\n",
      " [0 0 0 ... 0 0 0]\n",
      " [0 0 0 ... 0 0 0]\n",
      " ...\n",
      " [0 0 0 ... 0 0 0]\n",
      " [0 0 0 ... 0 0 0]\n",
      " [0 0 0 ... 0 0 0]]\n",
      "T: [[1. 0. 0. ... 0. 0. 0.]\n",
      " [0. 0. 0. ... 0. 0. 1.]\n",
      " [0. 0. 0. ... 0. 0. 0.]\n",
      " ...\n",
      " [0. 0. 0. ... 0. 0. 0.]\n",
      " [0. 0. 0. ... 1. 0. 0.]\n",
      " [0. 0. 0. ... 0. 0. 0.]]\n",
      "New X_train_perceptron shape: (785, 800)\n",
      "W_hat_perceptron shape: (10, 785)\n",
      "W_hat_perceptron: [[ 0.00000000e+00 -6.97629963e-13 -2.84246769e-11 ...  0.00000000e+00\n",
      "   0.00000000e+00  1.56674813e-01]\n",
      " [ 0.00000000e+00 -1.25290585e-11  8.76701572e-11 ...  0.00000000e+00\n",
      "   0.00000000e+00  2.50959923e-01]\n",
      " [ 0.00000000e+00 -3.30807810e-12  8.00058012e-11 ...  0.00000000e+00\n",
      "   0.00000000e+00  6.95264908e-02]\n",
      " ...\n",
      " [ 0.00000000e+00 -1.57136467e-11  8.13014497e-11 ...  0.00000000e+00\n",
      "   0.00000000e+00  1.66003841e-01]\n",
      " [ 0.00000000e+00 -9.82717487e-12 -5.47844398e-11 ...  0.00000000e+00\n",
      "   0.00000000e+00 -2.27243223e-01]\n",
      " [ 0.00000000e+00  2.34344534e-11 -1.13801034e-10 ...  0.00000000e+00\n",
      "   0.00000000e+00  2.14656533e-01]]\n",
      "New X shape: (785, 200)\n",
      "New X: [[0. 0. 0. ... 0. 0. 0.]\n",
      " [0. 0. 0. ... 0. 0. 0.]\n",
      " [0. 0. 0. ... 0. 0. 0.]\n",
      " ...\n",
      " [0. 0. 0. ... 0. 0. 0.]\n",
      " [0. 0. 0. ... 0. 0. 0.]\n",
      " [1. 1. 1. ... 1. 1. 1.]]\n",
      "Predictions: [[-0.10138945 -0.22739021 -0.79845901 ... -0.48454433  0.33004696\n",
      "   0.53625766]\n",
      " [-1.77468293  1.023938    1.87317528 ...  0.51904085 -0.36761478\n",
      "  -0.34483156]\n",
      " [ 1.31607102 -0.03847161 -0.54936165 ...  0.37841058  0.1229489\n",
      "   0.44002564]\n",
      " ...\n",
      " [-0.80511806  0.12332205  0.46121449 ...  0.86595108 -0.01796168\n",
      "   0.35610016]\n",
      " [ 2.13694772  0.18409726  0.93989759 ... -0.67489695  0.18061303\n",
      "   0.00233362]\n",
      " [-0.52331986 -0.14963989 -1.08584559 ... -0.40766609  0.13647337\n",
      "  -0.24787356]]\n"
     ]
    }
   ],
   "source": [
    "def compute_pseudoinverse(X):\n",
    "    \"\"\"\n",
    "    Computes the pseudoinverse of matrix X.\n",
    "    \"\"\"\n",
    "    X_pinv = np.linalg.pinv(X)  # For simplicity let's just use numpy's pseudoinverse function\n",
    "    return X_pinv\n",
    "\n",
    "\n",
    "def train_perceptron(X, T):\n",
    "    \"\"\"\n",
    "    Trains the perceptron using pseudoinverse to find the optimal weights.\n",
    "    \"\"\"\n",
    "    X_pinv = compute_pseudoinverse(X)\n",
    "    W_hat = np.dot(T, X_pinv)\n",
    "    return W_hat\n",
    "\n",
    "\n",
    "def predict(X, W):\n",
    "    \"\"\"\n",
    "    Uses the trained perceptron to predict outputs.\n",
    "    \"\"\"\n",
    "    return np.dot(W, X)\n",
    "\n",
    "\n",
    "print(\"X train shape:\", X_train.shape)\n",
    "print(\"T train shape:\", T_train.shape)\n",
    "print(\"X:\", X_train)\n",
    "print(\"T:\", T_train)\n",
    "\n",
    "# Augmenting X with a row of 1's\n",
    "X_train_perceptron = np.vstack((X_train, np.ones(X_train.shape[1]))) # numpy.vstack() stacks arrays in sequence vertically (row wise)\n",
    "print(\"New X_train_perceptron shape:\", X_train_perceptron.shape)\n",
    "\n",
    "\n",
    "\n",
    "# Training the perceptron\n",
    "W_hat_perceptron = train_perceptron(X_train_perceptron, T_train)\n",
    "print(\"W_hat_perceptron shape:\", W_hat_perceptron.shape)\n",
    "print(\"W_hat_perceptron:\", W_hat_perceptron)\n",
    "\n",
    "# Predicting new inputs\n",
    "X_test_perceptron = np.vstack((X_test, np.ones(X_test.shape[1])))\n",
    "\n",
    "print(\"New X shape:\", X_test_perceptron.shape)\n",
    "print(\"New X:\", X_test_perceptron)\n",
    "\n",
    "\n",
    "predictions = predict(X_test_perceptron, W_hat_perceptron)\n",
    "\n",
    "print(\"Predictions:\", predictions)"
   ]
  },
  {
   "cell_type": "markdown",
   "metadata": {},
   "source": [
    "Let's see the perceptron model performance"
   ]
  },
  {
   "cell_type": "code",
   "execution_count": 24,
   "metadata": {},
   "outputs": [
    {
     "name": "stdout",
     "output_type": "stream",
     "text": [
      "Predictions shape: (10, 200)\n",
      "y_pred shape: (200,)\n",
      "y_pred: [8 1 1 8 4 0 0 5 3 1 8 0 6 9 9 8 2 5 7 7 8 1 3 5 8 3 1 1 9 6 3 1 6 4 7 1 6\n",
      " 5 4 0 5 0 3 9 9 9 9 1 4 9 3 8 2 5 5 0 6 0 9 8 8 0 5 2 6 6 6 8 9 5 1 9 5 7\n",
      " 3 4 6 0 5 5 8 0 7 0 3 1 1 4 1 4 8 4 5 1 7 4 4 0 0 5 5 1 4 8 6 6 1 9 1 9 1\n",
      " 8 9 8 5 4 1 9 1 5 0 4 9 1 9 5 6 4 8 8 8 5 2 9 0 0 1 1 0 9 0 8 1 4 8 9 3 5\n",
      " 6 0 4 1 5 4 9 8 4 6 0 8 4 1 6 3 8 0 2 6 3 3 3 9 1 9 4 3 2 9 8 6 4 5 3 4 8\n",
      " 1 3 3 9 7 9 8 6 1 2 4 3 7 6 0]\n",
      "y_true shape: (200,)\n",
      "y_true: [5 7 7 6 4 6 6 5 8 1 8 0 6 9 9 8 2 8 7 3 5 1 3 5 2 2 1 9 9 9 3 1 6 4 3 1 6\n",
      " 5 9 0 3 0 3 9 2 2 9 6 4 8 5 8 2 5 0 0 6 0 2 8 2 0 5 2 6 6 6 8 0 5 1 4 5 7\n",
      " 2 2 6 0 5 3 6 0 2 0 3 5 9 7 7 3 3 4 5 2 7 4 7 0 0 8 7 3 9 2 6 6 5 9 1 9 5\n",
      " 8 9 8 0 4 1 9 5 2 8 4 7 2 2 5 5 4 8 8 5 8 2 9 5 0 1 2 0 0 0 2 7 2 8 9 8 2\n",
      " 8 3 6 1 9 4 9 4 3 6 0 8 5 7 6 6 8 6 2 6 3 3 3 4 1 9 4 3 2 2 8 6 4 6 3 5 8\n",
      " 1 3 3 9 7 9 8 6 1 2 4 3 2 6 0]\n",
      "Accuracy: 0.6\n",
      "Precision: 0.6314451257992644\n",
      "Recall: 0.6199385220254785\n",
      "F1 score: 0.5852993982657942\n"
     ]
    }
   ],
   "source": [
    "# We can now calculate the prediction performance using sklearn performance metrics\n",
    "\n",
    "from sklearn.metrics import accuracy_score, precision_score, recall_score, f1_score\n",
    "\n",
    "# We need to convert the predictions from a matrix to a vector of labels.\n",
    "# We can do this by taking the index of the maximum value in each column.\n",
    "\n",
    "y_pred_perceptron = np.argmax(predictions, axis=0)\n",
    "print(\"Predictions shape:\", predictions.shape)\n",
    "print(\"y_pred shape:\", y_pred_perceptron.shape)\n",
    "print(\"y_pred:\", y_pred_perceptron)\n",
    "\n",
    "# Now we can calculate the performance metrics.\n",
    "\n",
    "y_true = np.argmax(T_test, axis=0)\n",
    "print(\"y_true shape:\", y_true.shape)\n",
    "print(\"y_true:\", y_true)\n",
    "\n",
    "print(\"Accuracy:\", accuracy_score(y_true, y_pred_perceptron))\n",
    "print(\"Precision:\", precision_score(y_true, y_pred_perceptron, average=\"macro\"))\n",
    "print(\"Recall:\", recall_score(y_true, y_pred_perceptron, average=\"macro\"))\n",
    "print(\"F1 score:\", f1_score(y_true, y_pred_perceptron, average=\"macro\"))"
   ]
  },
  {
   "cell_type": "code",
   "execution_count": 25,
   "metadata": {},
   "outputs": [
    {
     "data": {
      "image/png": "[encoded data removed]",
      "text/plain": [
       "<Figure size 1000x1000 with 2 Axes>"
      ]
     },
     "metadata": {},
     "output_type": "display_data"
    }
   ],
   "source": [
    "from sklearn.metrics import confusion_matrix\n",
    "import seaborn as sns\n",
    "\n",
    "cm = confusion_matrix(y_true, y_pred_perceptron)\n",
    "plt.figure(figsize=(10, 10))\n",
    "sns.heatmap(cm, annot=True, fmt='g', square=True, cmap='Blues')\n",
    "plt.xlabel('Predicted label')\n",
    "plt.ylabel('True label')\n",
    "plt.title('Confusion matrix')\n",
    "plt.show()"
   ]
  },
  {
   "cell_type": "markdown",
   "metadata": {},
   "source": [
    "Wow! Amazing performance from this little perceptron guy! Let's move on to the theory again to introduce a new concept: \"hidden\" layers."
   ]
  },
  {
   "cell_type": "markdown",
   "metadata": {},
   "source": [
    "# Introducing Hidden Layers\n",
    "\n",
    "We want to be able to model more complex relationships. We could assume that the relationship between the flattened matrix of an image and the digit represented in that image is *not* linear, and instead implies a complex relationship (although this is surprisingly controversial: https://stats.stackexchange.com/questions/426873/how-does-a-simple-logistic-regression-model-achieve-a-92-classification-accurac). To model that increased complexity we can use what is called a \"hidden layer\".\n",
    "\n",
    "## Enhanced Structure\n",
    "\n",
    "In between the input and the output layers, we will add a middle layer. This means that instead of going directly from a 784 dimensional space to a 10 dimensional one, we will go from 784 dimensions, to S dimensions, and from S dimensions to 10 dimensions. Our middle (hidden) layer then is an S dimensional space. For our case we will use 128 dimensions for our hidden layer.\n",
    "\n",
    "## Weight Matrix and Adaptive Learning\n",
    "\n",
    "Now for estimating our weight matrix W, we won't estimate it directly from X. Instead we are going to iterate over itself and so we will optimize W in a way. The first version of W will be initialized randomly, and over each iteration we will be *nudging* it, instead of starting from scratch each time.\n",
    "\n",
    "## Transformation in the Hidden Layer\n",
    "Let's define \"P\" as `P = W X`, so kind of how we defined \"T\" for our perceptron. This will model the hidden layer, but we are now going to add a bit more complexity. We will apply a component-wise function \"sigma\" to `P` to get `S`, so $P=WX$ and $S = sigma(P)$ \n",
    "\n",
    "We will call this \"sigma\" function an \"activation function\". This will helps us to model complex non-linear relationships and interaction effects. We will use the sigmoid activation function, which given an input \"z\" is defined as:\n",
    "$$\n",
    "\\sigma(z) = \\frac{1}{1 + e^{-z}}\n",
    "\n",
    "$$\n",
    "After applying sigma, its output will become the input for the next layer, which in our case will be just the output layer.\n",
    "$$ S = sigma(WX) $$\n",
    "\n",
    "We could also apply another activation function to the output layer, but for simplicity won't. \n",
    "\n",
    "\n",
    "## Output Matrix and Error Calculation\n",
    "\n",
    "Finally, our output matrix could be defined as our perceptron last time:\n",
    "$$\n",
    "Y = WX\n",
    "$$\n",
    "\n",
    "But now the input matrix X is actually the output of the hidden layer, and given that both layers have different weight matrixes let's add a subscript to each to differentiate them (\"o\" for output and \"h\" for hidden), so:\n",
    "\n",
    "$$\n",
    "Y = W_o * sigma(W_h * X)\n",
    "$$\n",
    "\n",
    "\n",
    "Like last time, we will try to make the predicted labels to be as close as posible to the real labels. We will now introduce an error function, that will be defined as:\n",
    "\n",
    "$$E(W_h, W_o) = \\sum ||t_k - y_k||^2$$\n",
    "\n",
    "Where t is a label and y a prediction.\n",
    "\n",
    "## Error optimization via Gradient Descent\n",
    "\n",
    "Our final piece of the puzzle is a way to minimize the error function we just introduced. For that, we are going to use something called \"Gradient descent\". After each iteration of updating W, we evaluate our error function and we ask \"where do we go from here to minimize our error?\". For that, we calculate the gradient of the error function at that specific point, which will give us a set of vectors (each one corresponding to a dimension of our hidden layer) that point us in the direction of the greatest change (actually in the direction of the function greatest *increase*, so we must take the exact **opposite** direction!). \n",
    "\n",
    "We will take advantage of numpy using its *gradient* method, which according to numpy's documentation outputs \"*A list of ndarrays (or a single ndarray if there is only one dimension) corresponding to the derivatives of f with respect to each dimension. Each derivative has the same shape as f.*\" (in our case f is the error function). \n",
    "\n",
    "## Learning rate parameter\n",
    "\n",
    "Like we mentioned before, we want to make *small nudges* to our W matrix each iteration, so we will scale that set of vectors by $\\alpha$, a scalar we will call a \"learning rate\". This learning rate is a parameter we define, and basically will affect the size of the \"step\" we take towards the error minimization. If we take big steps, we risk not finding a global optima, and if we take small steps we risk taking a long time to find the optima. \n"
   ]
  },
  {
   "cell_type": "markdown",
   "metadata": {},
   "source": [
    "\n",
    "## Backpropagation\n",
    "\n",
    "*Shoutout to https://www.3blue1brown.com/lessons/backpropagation-calculus for an excelent summary on backpropagation calculus*\n",
    "\n",
    "We now have all the elements to try to minimize our error function. \n",
    "\n",
    "Remember that all we can modify are the W matrixes ($W_h,W_o$ for the weight matrix of our hidden and output layers respectively)\n",
    "\n",
    "Given the error function:\n",
    "$$ E(t, y) = \\sum \\left( \\text{norm}(t - y)^2 \\right) $$\n",
    "\n",
    "Where:\n",
    "- $ t $ is the true output.\n",
    "- $ y $ is the predicted output.\n",
    "\n",
    "We want to find out the impact of a very small change in each element of the W matrixes on the computed error at a specific evaluation point. That is why we calculate the gradient of the error function with respect to the weights as follows:\n",
    "\n",
    "1. **Output Layer (Layer o)**: \n",
    "    - Using the *chain rule* we start from the \"end\", so the output layer first\n",
    "    \n",
    "    - The gradient for weights in the output layer is:\n",
    "      $$\n",
    "      \\frac{\\partial E}{\\partial W^{[o]}} = \\frac{\\partial E}{\\partial y} \\cdot \\frac{\\partial y}{\\partial z^{[o]}} \\cdot \\frac{\\partial z^{[o]}}{\\partial W^{[o]}}\n",
    "      $$\n",
    "      where $ \\frac{\\partial y}{\\partial z^{[o]}} $ is the derivative of the sigmoid function and $ \\frac{\\partial z^{[o]}}{\\partial W^{[o]}} $ is the activation from the hidden layer.\n",
    "    - The derivative of the error function with respect to the output is \n",
    "    $$ \\frac{\\partial E}{\\partial y} = 2 \\times (y - t) $$\n",
    "\n",
    "2. **Hidden Layer (Layer h)**:\n",
    "    - The derivative of the error function with respect to the activations of the hidden layer is computed by backpropagating the error from the output layer.\n",
    "    - The gradient for weights in the hidden layer is:\n",
    "      $$\n",
    "      \\frac{\\partial E}{\\partial W^{[h]}} = \\left( \\frac{\\partial E}{\\partial z^{[o]}} \\cdot W^{[o]} \\right) \\cdot \\frac{\\partial z^{[o]}}{\\partial a^{[h]}} \\cdot \\frac{\\partial a^{[h]}}{\\partial z^{[h]}} \\cdot \\frac{\\partial z^{[h]}}{\\partial W^{[h]}}\n",
    "      $$\n",
    "\n",
    "In these equations:\n",
    "- $ \\frac{\\partial a^{[l]}}{\\partial z^{[l]}} $ is the derivative of the sigmoid function at layer $ l $.\n",
    "- $ \\frac{\\partial z^{[l]}}{\\partial W^{[l]}} $ is the activation from the previous layer (or input for the first layer).\n"
   ]
  },
  {
   "cell_type": "markdown",
   "metadata": {},
   "source": []
  },
  {
   "cell_type": "markdown",
   "metadata": {},
   "source": [
    "# Coding our final implementation\n",
    "\n",
    "We now have to implement the following:\n",
    "- Code our activation function (sigmoid)\n",
    "- Initialize W and b for the hidden and output layers, so we will set them to some random (small) value. \n",
    "- Set our $\\alpha$ parameter\n",
    "- Code our gradient function \n",
    "- Evaluate the error function for a specific point\n",
    "\n",
    "And most important of all, we must put everything together in our optimization function, which will:\n",
    "1. Take as input the current W matrixes ($W_o,W_h$), X_train, T_train, alpha, and desired number of iterations\n",
    "2. For each iteration:\n",
    "    1. Evaluate error function\n",
    "    2. Calculate gradient at evaluation point\n",
    "    3. Update W based on alpha x gradient\n",
    "3. Output final W matrixes ($W_o,W_h$)"
   ]
  },
  {
   "cell_type": "markdown",
   "metadata": {},
   "source": []
  },
  {
   "cell_type": "code",
   "execution_count": null,
   "metadata": {},
   "outputs": [
    {
     "name": "stdout",
     "output_type": "stream",
     "text": [
      "W_h shape: (800, 784)\n",
      "W_h sample:  [[-0.01233392 -0.00764766 -0.01337651]\n",
      " [-0.00728271 -0.01219642 -0.01643315]\n",
      " [ 0.00305774  0.00161924 -0.01116618]]\n",
      "b_h shape: (800, 1)\n",
      "b_h sample:  [[0.]\n",
      " [0.]\n",
      " [0.]]\n",
      "W_o shape: (10, 800)\n",
      "W_o sample:  [[ 0.00413365 -0.00186948 -0.00316833]\n",
      " [-0.01266696 -0.00618343  0.00414698]\n",
      " [-0.00355142  0.00448469 -0.02104537]]\n",
      "b_o shape: (10, 1)\n",
      "b_o sample:  [[0.]\n",
      " [0.]\n",
      " [0.]]\n"
     ]
    }
   ],
   "source": [
    "\n",
    "\n",
    "\n",
    "def sigmoid(signal):\n",
    "    # Prevent overflow.\n",
    "    signal = np.clip( signal, -500, 500 )\n",
    "    \n",
    "    # Calculate activation signal\n",
    "    signal = 1.0/( 1 + np.exp( -signal ))\n",
    "    \n",
    "    return signal\n",
    "\n",
    "\n",
    "def initialize_parameters(X, y):\n",
    "    \"\"\"\n",
    "    Initializes the weights and biases\n",
    "    \"h\" sufix indicates hidden layer, and \"o\" output layer\n",
    "    The output differentiates W and b for each layer\n",
    "    \"\"\"\n",
    "\n",
    "    n_x = X.shape[0]  # number of inputs\n",
    "    n_h = X.shape[1]  # number of hidden rows\n",
    "    n_y = y.shape[0]  # number of outputs\n",
    "\n",
    "    W_h = np.random.randn(n_h, n_x) * 0.01  # initial random weights for hidden layer\n",
    "    b_h = np.zeros((n_h, 1))  # initial zero bias for hidden layer\n",
    "\n",
    "    W_o = np.random.randn(n_y, n_h) * 0.01  # weights for output layer\n",
    "    b_o = np.zeros((n_y, 1))  # bias for output layer\n",
    "\n",
    "    return W_h, b_h, W_o, b_o\n",
    "\n",
    "\n",
    "W_h, b_h, W_o, b_o = initialize_parameters(X_train, T_train)\n",
    "print(\"W_h shape:\", W_h.shape)\n",
    "print(\"W_h sample: \", W_h[0:3, 0:3])\n",
    "print(\"b_h shape:\", b_h.shape)\n",
    "print(\"b_h sample: \", b_h[0:3, 0:3])\n",
    "print(\"W_o shape:\", W_o.shape)\n",
    "print(\"W_o sample: \", W_o[0:3, 0:3])\n",
    "print(\"b_o shape:\", b_o.shape)\n",
    "print(\"b_o sample: \", b_o[0:3, 0:3])"
   ]
  },
  {
   "cell_type": "code",
   "execution_count": null,
   "metadata": {},
   "outputs": [
    {
     "name": "stdout",
     "output_type": "stream",
     "text": [
      "X_h shape: (800, 800)\n",
      "Error: 0.1\n"
     ]
    }
   ],
   "source": [
    "def sigmoid_derivative(x):\n",
    "    return sigmoid(x) * (1.0 - sigmoid(x))\n",
    "\n",
    "\n",
    "def error_function(t, y):\n",
    "    \"\"\"\n",
    "    Computes the mean squared error between the predicted output (y) and the true output (t).\n",
    "    \"\"\"\n",
    "    return np.mean(np.square(t - y))\n",
    "\n",
    "\n",
    "# Lets make an initial prediction using W_h and W_o\n",
    "# and calculate the error function\n",
    "\n",
    "X_h = sigmoid(np.dot(W_h, X_train) + b_h)  # hidden layer\n",
    "print(\"X_h shape:\", X_h.shape)\n",
    "y_o = sigmoid(np.dot(W_o, X_h) + b_o)  # output layer\n",
    "error = error_function(T_train, y_o)\n",
    "print(\"Error:\", error)"
   ]
  },
  {
   "cell_type": "markdown",
   "metadata": {},
   "source": [
    "Let's now calculate the gradient for each of the weight matrixes, with the following definitions:\n",
    "- $E$ is our cost (error) function\n",
    "- $W_o$ is the weight matrix for the output layer\n",
    "- $sigmoid_o$ is the output of the activation (sigmoid) function of the output layer (the final output, so alternatively we could call it $y$)\n",
    "- $z_o$ is an arbitrary name for the input for the activation function (WX+b , or WX in our matrix form). In this case is the input for the final activation $sigmoid_o$, so it would be $W_o*sigmoid_h$ (the output layer weight matrix times the output from the hidden layer)\n",
    "\n",
    "\n",
    "### $W_o$ matrix gradient\n",
    "\n",
    "$$\n",
    "      \\frac{\\partial E}{\\partial W_o} = \\frac{\\partial E}{\\partial sigmoid_o} \\cdot \\frac{\\partial sigmoid_o}{\\partial z_o} \\cdot \\frac{\\partial z_o}{\\partial W_o}\n",
    "$$\n",
    "\n",
    "Lets calculate each partial derivative:\n",
    "\n",
    "#### Error function derivative\n",
    "The error or cost function can be expressed as\n",
    "\n",
    "$$\n",
    "E = (sigmoid_o - t)^2\n",
    "$$\n",
    "\n",
    "So taking the partial derivative with respect to $sigmoid_o$ gives us\n",
    "\n",
    "$$\n",
    "\\frac{\\partial E}{\\partial sigmoid_o} = 2 * (sigmoid_o - t)\n",
    "$$\n",
    "\n",
    "#### Sigmoid function derivative\n",
    "The partial derivative of the sigmoid function with respect to $z_o$ is\n",
    "\n",
    "$$\n",
    "\\frac{\\partial sigmoid_o}{\\partial z_o} =   sigmoid(z_o) \\cdot (1 - sigmoid(z_o))\n",
    "\n",
    "$$\n",
    "\n",
    "#### z derivative\n",
    "\n",
    "Finally, deriving $z_o$ with respect to $W_o$ is simply $sigmoid_h$ (the output of the hidden layer)\n",
    "\n",
    "\n",
    "### $W_h$ matrix gradient\n",
    "\n",
    "The gradient of the errror function with respect to the $W_h$ matrix involves more steps:\n",
    "\n",
    "$$\n",
    "\n",
    " \\frac{\\partial E}{\\partial W_h} = \\frac{\\partial E}{\\partial sigmoid_o} \\cdot \\frac{\\partial sigmoid_o}{\\partial z_o} \\cdot \\frac{\\partial z_o}{\\partial sigmoid_h} \\cdot \\frac{\\partial sigmoid_h}{\\partial z_h} \\cdot \\frac{\\partial z_h}{\\partial W_h} \n",
    "$$\n",
    "\n",
    "We already calculated the first two elements. Let's calculate the rest:\n",
    "\n",
    "#### z derivative ($W_h$)\n",
    "\n",
    "$$\n",
    "\\frac{\\partial z_o}{\\partial sigmoid_h} = W_h\n",
    "$$\n",
    "\n",
    "#### Sigmoid ($sigmoid_h$) function derivative\n",
    "\n",
    "$$\n",
    "\n",
    "\\frac{\\partial sigmoid_h}{\\partial z_h} =   sigmoid(z_h) \\cdot (1 - sigmoid(z_h))\n",
    "\n",
    "$$\n",
    "\n",
    "\n",
    "#### z derivative ($W_h$)\n",
    "\n",
    "Given we have only 1 hidden layer, the partial derivative will be just the input matrix $X$\n",
    "\n",
    "$$\n",
    "\\frac{\\partial z_h}{\\partial W_h} = X\n",
    "$$"
   ]
  },
  {
   "cell_type": "code",
   "execution_count": null,
   "metadata": {},
   "outputs": [
    {
     "name": "stdout",
     "output_type": "stream",
     "text": [
      "dE_dy_o shape: (10, 800)\n",
      "dy_o_dz_o shape: (10, 800)\n",
      "dz_o_dW_o shape: (800, 800)\n",
      "dE_dW_o shape: (10, 800)\n"
     ]
    }
   ],
   "source": [
    "\"\"\"\n",
    "W_o matrix gradient calculation\n",
    "\"\"\"\n",
    "\n",
    "# First we calculate the gradient of the error function with respect to the output layer weight matrix W_o\n",
    "# We will use the chain rule for that\n",
    "\n",
    "# First we calculate the derivative of the error function with respect to the output layer activation\n",
    "\n",
    "dE_dy_o = -2 * (T_train - y_o)\n",
    "print(\"dE_dy_o shape:\", dE_dy_o.shape)\n",
    "\n",
    "# Next calculate the derivative of the output layer activation with respect to the output layer input\n",
    "\n",
    "dy_o_dz_o = sigmoid_derivative(np.dot(W_o, X_h) + b_o)\n",
    "print(\"dy_o_dz_o shape:\", dy_o_dz_o.shape)\n",
    "\n",
    "# Finally we calculate the derivative of the output layer input with respect to the output layer weights\n",
    "\n",
    "dz_o_dW_o = X_h\n",
    "print(\"dz_o_dW_o shape:\", dz_o_dW_o.shape)\n",
    "\n",
    "# Now following the chain rule we can calculate the gradient of the error function with respect to the output layer weights\n",
    "\n",
    "dE_dW_o = np.dot(dE_dy_o * dy_o_dz_o, dz_o_dW_o.T)\n",
    "print(\"dE_dW_o shape:\", dE_dW_o.shape)\n",
    "\n",
    "# Lets create a function to encapsulate this calculation\n",
    "\n",
    "\n",
    "def calculate_gradient_W_o(X, T, W_o, W_h, b_o, b_h):\n",
    "    \"\"\"\n",
    "    Calculates the gradient of the error function with respect to the output layer weights\n",
    "    \"\"\"\n",
    "    #X_h = sigmoid(np.dot(W_h, X) + b_h)  # hidden layer\n",
    "    #y_o = sigmoid(np.dot(W_o, X_h) + b_o)  # output layer\n",
    "\n",
    "    dE_dy_o = -2 * (T - y_o)\n",
    "    dy_o_dz_o = sigmoid_derivative(np.dot(W_o, X_h) + b_o)\n",
    "    dz_o_dW_o = X_h\n",
    "\n",
    "    dE_dW_o = np.dot(dE_dy_o * dy_o_dz_o, dz_o_dW_o.T)\n",
    "    return dE_dW_o\n",
    "\n",
    "\n",
    "# Let's try it out\n",
    "\n",
    "dE_dW_o_test = calculate_gradient_W_o(X_train, T_train, W_o, W_h, b_o, b_h)\n",
    "assert dE_dW_o_test.all() == dE_dW_o.all()"
   ]
  },
  {
   "cell_type": "code",
   "execution_count": null,
   "metadata": {},
   "outputs": [
    {
     "name": "stdout",
     "output_type": "stream",
     "text": [
      "dE_dy_o shape: (10, 800)\n",
      "dy_o_dz_o shape: (10, 800)\n",
      "dz_o_dX_h shape: (10, 800)\n",
      "dX_h_dz_h shape: (800, 800)\n",
      "dz_h_dW_h shape: (784, 800)\n",
      "dE_dW_h shape: (800, 784)\n"
     ]
    }
   ],
   "source": [
    "\"\"\"\n",
    "W_h matrix gradient calculation\n",
    "\"\"\"\n",
    "\n",
    "# First we calculate the gradient of the error function with respect to the hidden layer weight matrix W_h\n",
    "# We will use the chain rule for that\n",
    "\n",
    "# We already calculated the derivative of the error function with respect to the output layer activation\n",
    "\n",
    "print(\"dE_dy_o shape:\", dE_dy_o.shape)\n",
    "\n",
    "# We also calculated the derivative of the output layer activation with respect to the output layer input\n",
    "\n",
    "print(\"dy_o_dz_o shape:\", dy_o_dz_o.shape)\n",
    "\n",
    "# Now we need to calculate the derivative of the output layer input with respect to the hidden layer activation\n",
    "\n",
    "dz_o_dX_h = W_o\n",
    "print(\"dz_o_dX_h shape:\", dz_o_dX_h.shape)\n",
    "\n",
    "# Let's calculate the derivative of the hidden layer activation with respect to the hidden layer input\n",
    "\n",
    "dX_h_dz_h = sigmoid_derivative(np.dot(W_h, X_train) + b_h)\n",
    "print(\"dX_h_dz_h shape:\", dX_h_dz_h.shape)\n",
    "\n",
    "# The final derivative is simply the derivative of the hidden layer input with respect to the hidden layer weights\n",
    "\n",
    "dz_h_dW_h = X_train\n",
    "print(\"dz_h_dW_h shape:\", dz_h_dW_h.shape)\n",
    "\n",
    "# So the gradient of the error function with respect to the hidden layer weights is\n",
    "\n",
    "first = dE_dy_o * dy_o_dz_o\n",
    "second = np.dot(dz_o_dX_h.T, first)\n",
    "third = dX_h_dz_h * second\n",
    "fourth = np.dot(dz_h_dW_h, third)\n",
    "fifth = fourth.T\n",
    "\n",
    "dE_dW_h = fifth\n",
    "print(\"dE_dW_h shape:\", dE_dW_h.shape)\n",
    "\n",
    "# Like before, let's encapsulate this calculation in a function\n",
    "\n",
    "\n",
    "def calculate_gradient_W_h(X, X_h, y_o, T, W_o, W_h, b_o, b_h):\n",
    "    \"\"\"\n",
    "    Calculates the gradient of the error function with respect to the hidden layer weights\n",
    "    \"\"\"\n",
    "    #X_h = sigmoid(np.dot(W_h, X) + b_h)  # hidden layer\n",
    "    #y_o = sigmoid(np.dot(W_o, X_h) + b_o)  # output layer\n",
    "\n",
    "    dE_dy_o = -2 * (T - y_o)\n",
    "    dy_o_dz_o = sigmoid_derivative(np.dot(W_o, X_h) + b_o)\n",
    "    dz_o_dX_h = W_o\n",
    "    dX_h_dz_h = sigmoid_derivative(np.dot(W_h, X) + b_h)\n",
    "    dz_h_dW_h = X\n",
    "\n",
    "    first = dE_dy_o * dy_o_dz_o\n",
    "    second = np.dot(dz_o_dX_h.T, first)\n",
    "    third = dX_h_dz_h * second\n",
    "    fourth = np.dot(dz_h_dW_h, third)\n",
    "    fifth = fourth.T\n",
    "\n",
    "    dE_dW_h = fifth\n",
    "    return dE_dW_h\n",
    "\n",
    "\n",
    "# Let's try it out\n",
    "\n",
    "dE_dW_h_test = calculate_gradient_W_h(X_train, X_h, y_o, T_train, W_o, W_h, b_o, b_h)\n",
    "assert dE_dW_h_test.all() == dE_dW_h.all()"
   ]
  },
  {
   "cell_type": "markdown",
   "metadata": {},
   "source": [
    "Let's review what we need to do now to put everything together:\n",
    "\n",
    "1. Take as input the current W matrixes ($W_o,W_h$), X_train, T_train, alpha, and desired number of iterations\n",
    "2. For each iteration:\n",
    "    1. Evaluate error function\n",
    "    2. Calculate gradient at evaluation point\n",
    "    3. Update W based on alpha x gradient\n",
    "3. Output final W matrixes ($W_o,W_h$)"
   ]
  },
  {
   "cell_type": "code",
   "execution_count": null,
   "metadata": {},
   "outputs": [
    {
     "name": "stdout",
     "output_type": "stream",
     "text": [
      "Epoch: 1/20 - Training Error: 0.2478, Validation Error: 0.2468\n",
      "Epoch: 2/20 - Training Error: 0.0971, Validation Error: 0.0973\n",
      "Epoch: 3/20 - Training Error: 0.0969, Validation Error: 0.0971\n",
      "Epoch: 4/20 - Training Error: 0.0967, Validation Error: 0.0969\n",
      "Epoch: 5/20 - Training Error: 0.0965, Validation Error: 0.0968\n",
      "Epoch: 6/20 - Training Error: 0.0963, Validation Error: 0.0966\n",
      "Epoch: 7/20 - Training Error: 0.0960, Validation Error: 0.0963\n",
      "Epoch: 8/20 - Training Error: 0.0957, Validation Error: 0.0961\n",
      "Epoch: 9/20 - Training Error: 0.0954, Validation Error: 0.0958\n",
      "Epoch: 10/20 - Training Error: 0.0950, Validation Error: 0.0956\n",
      "Epoch: 11/20 - Training Error: 0.0946, Validation Error: 0.0953\n",
      "Epoch: 12/20 - Training Error: 0.0942, Validation Error: 0.0949\n",
      "Epoch: 13/20 - Training Error: 0.0937, Validation Error: 0.0946\n",
      "Epoch: 14/20 - Training Error: 0.0932, Validation Error: 0.0942\n",
      "Epoch: 15/20 - Training Error: 0.0927, Validation Error: 0.0939\n",
      "Epoch: 16/20 - Training Error: 0.0921, Validation Error: 0.0935\n",
      "Epoch: 17/20 - Training Error: 0.0915, Validation Error: 0.0931\n",
      "Epoch: 18/20 - Training Error: 0.0910, Validation Error: 0.0927\n",
      "Epoch: 19/20 - Training Error: 0.0904, Validation Error: 0.0923\n",
      "Epoch: 20/20 - Training Error: 0.0898, Validation Error: 0.0919\n"
     ]
    }
   ],
   "source": [
    "# Let's try iterating for the defined number of iterations\n",
    "\n",
    "alpha = 0.00005  # learning rate\n",
    "iterations = 1000  # number of iterations\n",
    "\n",
    "# initialize weights and biases\n",
    "\n",
    "W_h, b_h, W_o, b_o = initialize_parameters(X_train, T_train)\n",
    "\n",
    "# Lets also define a error function\n",
    "\n",
    "def print_progress(epoch, total_epochs, train_error, val_error=None, additional_metrics=None):\n",
    "    \"\"\"\n",
    "    Prints the progress of the training in a structured format.\n",
    "\n",
    "    :param epoch: The current epoch number.\n",
    "    :param train_error: The training error for this epoch.\n",
    "    :param val_error: (Optional) The validation error for this epoch.\n",
    "    :param additional_metrics: (Optional) A dictionary of any additional metrics to print.\n",
    "    \"\"\"\n",
    "    print(f\"Epoch: {epoch + 1}/{total_epochs} - Training Error: {train_error:.4f}\", end='')\n",
    "    \n",
    "    if val_error is not None:\n",
    "        print(f\", Validation Error: {val_error:.4f}\", end='')\n",
    "    \n",
    "    if additional_metrics:\n",
    "        for key, value in additional_metrics.items():\n",
    "            print(f\", {key}: {value:.4f}\", end='')\n",
    "    \n",
    "    print()  # Newline for next epoch\n",
    "\n",
    "train_errors = []\n",
    "val_errors = []\n",
    "\n",
    "for _ in range(iterations):\n",
    "    # calculate current error\n",
    "    X_h = sigmoid(np.dot(W_h, X_train) + b_h)  # hidden layer\n",
    "    y_o = sigmoid(np.dot(W_o, X_h) + b_o)  # output layer\n",
    "    error = error_function(T_train, y_o)\n",
    "    # calculate gradients\n",
    "    dE_dW_h = calculate_gradient_W_h(X_train, X_h, y_o, T_train, W_o, W_h, b_o, b_h)\n",
    "    #print(\"W_h maximum value:\", np.max(dE_dW_h))\n",
    "    dE_dW_o = calculate_gradient_W_o(X_train, T_train, W_o, W_h, b_o, b_h)\n",
    "    #print(\"W_o gradient sample:\", dE_dW_o[0:3, 0:3])\n",
    "    # Calculate errors\n",
    "    train_error = error_function(T_train, y_o)\n",
    "    train_errors.append(train_error)\n",
    "    X_h_val = sigmoid(np.dot(W_h, X_test) + b_h)  # hidden layer\n",
    "    y_o_val = sigmoid(np.dot(W_o, X_h_val) + b_o)  # output layer\n",
    "    val_error = error_function(T_test, y_o_val)\n",
    "    val_errors.append(val_error)\n",
    "    # Print progress\n",
    "    print_progress(_, iterations, train_error, val_error)\n",
    "    # update weights and biases\n",
    "    W_h -= alpha * dE_dW_h\n",
    "    W_o -= alpha * dE_dW_o\n",
    "    b_h -= alpha * np.sum(dE_dW_h, axis=1, keepdims=True)\n",
    "    b_o -= alpha * np.sum(dE_dW_o, axis=1, keepdims=True)"
   ]
  },
  {
   "cell_type": "code",
   "execution_count": null,
   "metadata": {},
   "outputs": [
    {
     "data": {
      "image/png": "[encoded data removed]",
      "text/plain": [
       "<Figure size 1000x600 with 1 Axes>"
      ]
     },
     "metadata": {},
     "output_type": "display_data"
    }
   ],
   "source": [
    "import matplotlib.pyplot as plt\n",
    "\n",
    "# Plotting the training and validation errors\n",
    "plt.figure(figsize=(10, 6))\n",
    "plt.plot(train_errors, label='Training Error')\n",
    "plt.plot(val_errors, label='Validation Error')\n",
    "plt.xlabel('Epochs')\n",
    "plt.ylabel('Error')\n",
    "plt.title('Training and Validation Error over Epochs')\n",
    "plt.legend()\n",
    "plt.grid(True)\n",
    "plt.show()\n"
   ]
  },
  {
   "cell_type": "code",
   "execution_count": null,
   "metadata": {},
   "outputs": [
    {
     "name": "stdout",
     "output_type": "stream",
     "text": [
      "Error: 0.0432832526791561\n",
      "Accuracy: 0.805\n",
      "Precision: 0.7987767269672641\n",
      "Recall: 0.8098184488619271\n",
      "F1 score: 0.801764449241546\n"
     ]
    },
    {
     "data": {
      "image/png": "[encoded data removed]",
      "text/plain": [
       "<Figure size 1000x1000 with 2 Axes>"
      ]
     },
     "metadata": {},
     "output_type": "display_data"
    }
   ],
   "source": [
    "from sklearn.metrics import confusion_matrix\n",
    "# Let's see the performance of the trained network\n",
    "\n",
    "X_h = sigmoid(np.dot(W_h, X_test) + b_h)  # hidden layer\n",
    "y_o = sigmoid(np.dot(W_o, X_h) + b_o)  # output layer\n",
    "error = error_function(T_test, y_o)\n",
    "\n",
    "print(\"Error:\", error)\n",
    "\n",
    "# Now using sklearn metrics\n",
    "\n",
    "y_pred = np.argmax(y_o, axis=0)\n",
    "y_true = np.argmax(T_test, axis=0)\n",
    "\n",
    "print(\"Accuracy:\", accuracy_score(y_true, y_pred))\n",
    "print(\"Precision:\", precision_score(y_true, y_pred, average=\"macro\"))\n",
    "print(\"Recall:\", recall_score(y_true, y_pred, average=\"macro\"))\n",
    "print(\"F1 score:\", f1_score(y_true, y_pred, average=\"macro\"))\n",
    "\n",
    "\n"
   ]
  },
  {
   "cell_type": "code",
   "execution_count": null,
   "metadata": {},
   "outputs": [],
   "source": [
    "# Let's see the confusion matrix in full color\n",
    "\n",
    "import seaborn as sns\n",
    "\n",
    "cm = confusion_matrix(y_true, y_pred)\n",
    "plt.figure(figsize=(10, 10))\n",
    "sns.heatmap(cm, annot=True, fmt='g', square=True, cmap='Blues')\n",
    "plt.xlabel('Predicted label')\n",
    "plt.ylabel('True label')\n",
    "plt.title('Confusion matrix')\n",
    "plt.show()"
   ]
  }
 ],
 "metadata": {
  "kernelspec": {
   "display_name": "Python 3",
   "language": "python",
   "name": "python3"
  },
  "language_info": {
   "codemirror_mode": {
    "name": "ipython",
    "version": 3
   },
   "file_extension": ".py",
   "mimetype": "text/x-python",
   "name": "python",
   "nbconvert_exporter": "python",
   "pygments_lexer": "ipython3",
   "version": "3.9.6"
  }
 },
 "nbformat": 4,
 "nbformat_minor": 2
}
